{
 "cells": [
  {
   "cell_type": "markdown",
   "id": "0718c9e2",
   "metadata": {},
   "source": [
    "# User defined loss functions\n",
    "\n",
    "Here we will show how you can define your own loss functions to train a neural network."
   ]
  },
  {
   "cell_type": "code",
   "execution_count": 13,
   "id": "4e1f9dd3",
   "metadata": {},
   "outputs": [],
   "source": [
    "import os\n",
    "import numpy as np\n",
    "import matplotlib.pyplot as plt\n",
    "\n",
    "import easysurrogate as es"
   ]
  },
  {
   "cell_type": "code",
   "execution_count": 14,
   "id": "6a438a33",
   "metadata": {},
   "outputs": [],
   "source": [
    "plt.rcParams['image.cmap'] = 'seismic'"
   ]
  },
  {
   "cell_type": "markdown",
   "id": "907a1b94",
   "metadata": {},
   "source": [
    "We will use a very simple analytic function `f` to generate some training data"
   ]
  },
  {
   "cell_type": "code",
   "execution_count": 15,
   "id": "0c79927e",
   "metadata": {},
   "outputs": [],
   "source": [
    "def f(x1, x2):\n",
    "    \"\"\"\n",
    "    A simple analytic function.\n",
    "\n",
    "    Parameters\n",
    "    ----------\n",
    "    x1 : float or array of floats\n",
    "        First input.\n",
    "    x2 : float or array of floats\n",
    "        Second input.\n",
    "\n",
    "    Returns\n",
    "    -------\n",
    "    float or array of floats\n",
    "        Function values at (x1, x2).\n",
    "\n",
    "    \"\"\"\n",
    "    return np.array([np.sin(x1 ** 2), np.cos(x2)])"
   ]
  },
  {
   "cell_type": "markdown",
   "id": "ee77d976",
   "metadata": {},
   "source": [
    "Generate the training data"
   ]
  },
  {
   "cell_type": "code",
   "execution_count": 16,
   "id": "b18237a9",
   "metadata": {},
   "outputs": [],
   "source": [
    "n_train = 10000\n",
    "X = np.random.rand(n_train, 2)\n",
    "y = f(X[:, 0], X[:, 1]).T\n",
    "n_out = y.shape[1]"
   ]
  },
  {
   "cell_type": "markdown",
   "id": "f7dd5039",
   "metadata": {},
   "source": [
    "### Squared loss and its dimensions\n",
    "\n",
    "Here we train a standard ANN with the squared (scalar) loss function (`loss=\"squared\"`):\n",
    "\n",
    "\\begin{align}\n",
    "L = \\frac{1}{n_{out}}\\sum_{j=1}^{n_{out}}(y_j - h_j)^2 \\in\\mathbb{R}\n",
    "\\end{align}\n",
    "\n",
    "Here, $y_j$ and $h_j$ are the j-th data point and ANN predictions of the j-th neuron, with $j=1,\\cdots,n_{out}$. Hence their dimensions are:\n",
    "\n",
    "Internally, the following gradient is computed:\n",
    "\n",
    "\\begin{align}\n",
    "\\frac{\\partial L}{\\partial {\\bf h}} = -\\frac{2}{n_{out}}({\\bf y} - {\\bf h})\\in\\mathbb{R}^{n_{out}\\times 1}\n",
    "\\end{align}\n",
    "\n",
    "Note that here;\n",
    "* ${\\bf y} = [y_1,\\cdots,y_{n_{out}}]^T\\in\\mathbb{R}^{n_{out}\\times 1}$ and,\n",
    "* ${\\bf h}= [h_1,\\cdots,h_{n_{out}}]^T\\in\\mathbb{R}^{n_{out}\\times 1}$\n",
    "\n",
    "are the full data vector and ANN prediction, respectively. Note that this is the **loss gradient per output neuron**, which is then used to backpropagate the loss backwards through the network.\n",
    "\n",
    "If `batch_size` > 1 , the process is done simultaneously for each mini batch sample, such that the dimensions change:\n",
    "\n",
    "\\begin{align}\n",
    "\\frac{\\partial L}{\\partial H} = -\\frac{2}{n_{out}}(Y - H)\\in\\mathbb{R}^{n_{out}\\times B}\n",
    "\\end{align}\n",
    "\n",
    "Here, $Y,H$ are now $n_{out}\\times B$ matrices ($B$=`batch_size`), comprised of the different ${\\bf y}$, ${\\bf h}$ vectors, one for each mini batch sample. \n",
    "\n",
    "Note there is some abuse of notation, as each column of the gradient above corresponds to a different $\\partial L_i/\\partial {\\bf h}_i$, $i=1,\\cdots,B$, i.e. $L$ is also indexed by $i$."
   ]
  },
  {
   "cell_type": "code",
   "execution_count": 17,
   "id": "ed5dcfc8",
   "metadata": {},
   "outputs": [
    {
     "name": "stdout",
     "output_type": "stream",
     "text": [
      "Creating ANN_Surrogate Object\n",
      "Creating Feature Engineering object\n",
      "Using  10000/10000 samples to train the ML model\n",
      "===============================\n",
      "Neural net parameters\n",
      "===============================\n",
      "Number of layers = 3\n",
      "Number of features = 2\n",
      "Loss function = squared\n",
      "Number of neurons per hidden layer = 100\n",
      "Number of output neurons = 2\n",
      "Activation = ['linear', 'tanh', 'tanh', 'linear']\n",
      "This neural network has 10602 weights.\n",
      "===============================\n",
      "===============================\n",
      "Training Artificial Neural Network...\n"
     ]
    },
    {
     "name": "stderr",
     "output_type": "stream",
     "text": [
      "  2%|██▋                                                                                                                                                                 | 81/5000 [00:00<00:06, 807.95it/s]"
     ]
    },
    {
     "name": "stdout",
     "output_type": "stream",
     "text": [
      " loss = 1.0955\n"
     ]
    },
    {
     "name": "stderr",
     "output_type": "stream",
     "text": [
      " 22%|███████████████████████████████████▏                                                                                                                              | 1085/5000 [00:01<00:04, 926.09it/s]"
     ]
    },
    {
     "name": "stdout",
     "output_type": "stream",
     "text": [
      " loss = 0.0001\n"
     ]
    },
    {
     "name": "stderr",
     "output_type": "stream",
     "text": [
      " 43%|█████████████████████████████████████████████████████████████████████▊                                                                                            | 2155/5000 [00:02<00:02, 984.39it/s]"
     ]
    },
    {
     "name": "stdout",
     "output_type": "stream",
     "text": [
      " loss = 0.0001\n"
     ]
    },
    {
     "name": "stderr",
     "output_type": "stream",
     "text": [
      " 64%|██████████████████████████████████████████████████████████████████████████████████████████████████████▋                                                          | 3190/5000 [00:03<00:01, 1010.65it/s]"
     ]
    },
    {
     "name": "stdout",
     "output_type": "stream",
     "text": [
      " loss = 0.0000\n"
     ]
    },
    {
     "name": "stderr",
     "output_type": "stream",
     "text": [
      " 82%|█████████████████████████████████████████████████████████████████████████████████████████████████████████████████████████████████████▎                            | 4114/5000 [00:04<00:00, 985.61it/s]"
     ]
    },
    {
     "name": "stdout",
     "output_type": "stream",
     "text": [
      " loss = 0.0000\n"
     ]
    },
    {
     "name": "stderr",
     "output_type": "stream",
     "text": [
      "100%|██████████████████████████████████████████████████████████████████████████████████████████████████████████████████████████████████████████████████████████████████| 5000/5000 [00:05<00:00, 981.17it/s]\n"
     ]
    }
   ],
   "source": [
    "ANN = es.methods.ANN_Surrogate()\n",
    "n_iter = 5000\n",
    "ANN.train(X, y, n_iter,\n",
    "          loss = 'squared',\n",
    "          n_neurons = 100, n_layers = 3, \n",
    "          batch_size=32)"
   ]
  },
  {
   "cell_type": "code",
   "execution_count": 18,
   "id": "c8de2259",
   "metadata": {},
   "outputs": [
    {
     "data": {
      "text/plain": [
       "array([[-0.00509463, -0.00436916,  0.01017844, -0.00699217,  0.01141084,\n",
       "        -0.00168044,  0.01300559, -0.02041407,  0.00093101,  0.01129597,\n",
       "        -0.00583895,  0.00518252,  0.01506076,  0.00740997, -0.00888195,\n",
       "        -0.00566916,  0.00649388,  0.00326211, -0.00980302,  0.02236922,\n",
       "         0.00440764, -0.00913948, -0.0060169 ,  0.01052488, -0.00692763,\n",
       "        -0.01098638, -0.01491328,  0.00444356, -0.00632037, -0.02434199,\n",
       "         0.00065437, -0.00977119],\n",
       "       [-0.02303254,  0.01111223, -0.0029418 ,  0.0020199 , -0.00013861,\n",
       "        -0.00802067, -0.02001645,  0.01407621,  0.00546722, -0.00222395,\n",
       "        -0.00649312,  0.00132274, -0.01055398,  0.01070659, -0.004639  ,\n",
       "        -0.02133742, -0.00229295, -0.00693854, -0.00401671, -0.02420463,\n",
       "        -0.00446105, -0.00419969, -0.00900615, -0.01361108, -0.01543534,\n",
       "        -0.01646887, -0.01425272, -0.01194444, -0.01207377,  0.00493515,\n",
       "        -0.02143672, -0.00813378]])"
      ]
     },
     "execution_count": 18,
     "metadata": {},
     "output_type": "execute_result"
    }
   ],
   "source": [
    "ANN.neural_net.layers[-1].delta_ho\n"
   ]
  },
  {
   "cell_type": "markdown",
   "id": "65fd84c3",
   "metadata": {},
   "source": [
    "Make predictions at training data"
   ]
  },
  {
   "cell_type": "code",
   "execution_count": 19,
   "id": "3d59712a",
   "metadata": {},
   "outputs": [],
   "source": [
    "predictions = np.zeros([X.shape[0], n_out])\n",
    "for i, x in enumerate(X):\n",
    "    predictions[i] = ANN.predict(x)"
   ]
  },
  {
   "cell_type": "code",
   "execution_count": 20,
   "id": "48b2eda5",
   "metadata": {},
   "outputs": [
    {
     "data": {
      "image/png": "[encoded data removed]",
      "text/plain": [
       "<Figure size 800x400 with 4 Axes>"
      ]
     },
     "metadata": {},
     "output_type": "display_data"
    }
   ],
   "source": [
    "fig = plt.figure(figsize=[8,4])\n",
    "\n",
    "ax = fig.add_subplot(121, xlabel=r'$X_1$', ylabel=r'$X_2$', title='data y[0]', xlim=[0,1], ylim=[0,1])\n",
    "ct = ax.tricontourf(X[:, 0], X[:, 1], y[:, 0], 50)\n",
    "plt.colorbar(ct)\n",
    "\n",
    "ax = fig.add_subplot(122, xlabel=r'$X_1$', ylabel=r'$X_2$', title='ANN y[0]', xlim=[0,1], ylim=[0,1])\n",
    "ct = ax.tricontourf(X[:, 0], X[:, 1], predictions[:, 0], 50)\n",
    "plt.colorbar(ct)\n",
    "\n",
    "plt.tight_layout()"
   ]
  },
  {
   "cell_type": "markdown",
   "id": "6d09c4e4",
   "metadata": {},
   "source": [
    "### User defined loss\n",
    "\n",
    "Now, let's say we wish to use the following (mean absolute) loss instead, which is not implemented:\n",
    "\n",
    "\\begin{align}\n",
    "L = \\frac{1}{n_{out}}\\sum|y_j - {\\bf h}_j|\n",
    "\\end{align}\n",
    "\n",
    "We can define the loss function which returns $L$ and the corresponding loss gradient per output neuron per mini batch sample:\n",
    "\n",
    "\\begin{align}\n",
    "\\frac{\\partial L}{\\partial {\\bf h}_j} = -\\frac{1}{n_{out}}\\mathrm{sign}({\\bf y} - H)\n",
    "\\end{align}\n",
    "\n",
    "The `sign` function acts elementwise.\n",
    "\n",
    "This function **needs to have the arguments `(h, y)`, in this order**."
   ]
  },
  {
   "cell_type": "code",
   "execution_count": 21,
   "id": "6c354efa",
   "metadata": {},
   "outputs": [],
   "source": [
    "def user_defined_loss(h, y):\n",
    "    \"\"\"\n",
    "    User defined mean absolute loss L = sum |y_j - h_j| / n_out.\n",
    "\n",
    "    Parameters\n",
    "    ----------\n",
    "    h : array, shape (n_out, batch_size)\n",
    "        The minibatch ANN prediction of y.\n",
    "    y : array, shape (n_out, batch_size)\n",
    "        The minibatch training data.\n",
    "\n",
    "    Returns\n",
    "    -------\n",
    "    L_i : array, shape (n_out, batch_size)\n",
    "        Elementwise loss function values.\n",
    "    grad_L : array, shape (n_out, batch_size)\n",
    "        Elementwise loss function gradient values.\n",
    "\n",
    "    \"\"\"\n",
    "\n",
    "    loss = np.sum(np.abs(y - h), axis=0) / y.size\n",
    "    dloss_dh = -np.sign(y - h) / y.size\n",
    "\n",
    "    return loss, dloss_dh"
   ]
  },
  {
   "cell_type": "markdown",
   "id": "737c381e",
   "metadata": {},
   "source": [
    "We redefine the ANN, and just pass the user-defined loss function as `loss=user_defined_loss`"
   ]
  },
  {
   "cell_type": "code",
   "execution_count": 22,
   "id": "ce98c747",
   "metadata": {},
   "outputs": [
    {
     "name": "stdout",
     "output_type": "stream",
     "text": [
      "Creating ANN_Surrogate Object\n",
      "Creating Feature Engineering object\n",
      "Using  10000/10000 samples to train the ML model\n",
      "===============================\n",
      "Neural net parameters\n",
      "===============================\n",
      "Number of layers = 3\n",
      "Number of features = 2\n",
      "Loss function = <function user_defined_loss at 0x7f9763143ca0>\n",
      "Number of neurons per hidden layer = 100\n",
      "Number of output neurons = 2\n",
      "Activation = ['linear', 'tanh', 'tanh', 'linear']\n",
      "This neural network has 10602 weights.\n",
      "===============================\n",
      "===============================\n",
      "Training Artificial Neural Network...\n"
     ]
    },
    {
     "name": "stderr",
     "output_type": "stream",
     "text": [
      "  2%|██▉                                                                                                                                                                 | 89/5000 [00:00<00:05, 882.03it/s]"
     ]
    },
    {
     "name": "stdout",
     "output_type": "stream",
     "text": [
      " loss = 0.0346\n"
     ]
    },
    {
     "name": "stderr",
     "output_type": "stream",
     "text": [
      " 24%|██████████████████████████████████████▍                                                                                                                           | 1186/5000 [00:01<00:03, 972.75it/s]"
     ]
    },
    {
     "name": "stdout",
     "output_type": "stream",
     "text": [
      " loss = 0.0005\n"
     ]
    },
    {
     "name": "stderr",
     "output_type": "stream",
     "text": [
      " 44%|███████████████████████████████████████████████████████████████████████                                                                                           | 2195/5000 [00:02<00:02, 984.76it/s]"
     ]
    },
    {
     "name": "stdout",
     "output_type": "stream",
     "text": [
      " loss = 0.0003\n"
     ]
    },
    {
     "name": "stderr",
     "output_type": "stream",
     "text": [
      " 62%|████████████████████████████████████████████████████████████████████████████████████████████████████▍                                                             | 3098/5000 [00:03<00:01, 976.31it/s]"
     ]
    },
    {
     "name": "stdout",
     "output_type": "stream",
     "text": [
      " loss = 0.0003\n"
     ]
    },
    {
     "name": "stderr",
     "output_type": "stream",
     "text": [
      " 82%|█████████████████████████████████████████████████████████████████████████████████████████████████████████████████████████████████████                             | 4108/5000 [00:04<00:00, 958.40it/s]"
     ]
    },
    {
     "name": "stdout",
     "output_type": "stream",
     "text": [
      " loss = 0.0003\n"
     ]
    },
    {
     "name": "stderr",
     "output_type": "stream",
     "text": [
      "100%|██████████████████████████████████████████████████████████████████████████████████████████████████████████████████████████████████████████████████████████████████| 5000/5000 [00:05<00:00, 985.78it/s]\n"
     ]
    }
   ],
   "source": [
    "ANN = es.methods.ANN_Surrogate()\n",
    "\n",
    "# number of mini batch iterations\n",
    "n_iter = 5000\n",
    "\n",
    "# train the ANN\n",
    "ANN.train(X, y, n_iter,\n",
    "          loss = user_defined_loss,\n",
    "          n_neurons = 100, n_layers = 3, \n",
    "          batch_size=32)"
   ]
  },
  {
   "cell_type": "markdown",
   "id": "bb2afe2e",
   "metadata": {},
   "source": [
    "Make predictions at training data"
   ]
  },
  {
   "cell_type": "code",
   "execution_count": 23,
   "id": "f883d0b2",
   "metadata": {},
   "outputs": [],
   "source": [
    "predictions = np.zeros([X.shape[0], n_out])\n",
    "for i, x in enumerate(X):\n",
    "    predictions[i] = ANN.predict(x)"
   ]
  },
  {
   "cell_type": "code",
   "execution_count": 24,
   "id": "1fae0392",
   "metadata": {},
   "outputs": [
    {
     "data": {
      "image/png": "[encoded data removed]",
      "text/plain": [
       "<Figure size 800x400 with 2 Axes>"
      ]
     },
     "metadata": {},
     "output_type": "display_data"
    }
   ],
   "source": [
    "fig = plt.figure(figsize=[8,4])\n",
    "\n",
    "ax = fig.add_subplot(121, xlabel=r'$X_1$', ylabel=r'$X_2$', title='data y[0]', xlim=[0,1], ylim=[0,1])\n",
    "ax.tricontourf(X[:, 0], X[:, 1], y[:, 0], 50)\n",
    "\n",
    "ax = fig.add_subplot(122, xlabel=r'$X_1$', ylabel=r'$X_2$', title='ANN y[0]', xlim=[0,1], ylim=[0,1])\n",
    "ax.tricontourf(X[:, 0], X[:, 1], predictions[:, 0], 50)\n",
    "\n",
    "plt.tight_layout()"
   ]
  },
  {
   "cell_type": "code",
   "execution_count": null,
   "id": "d839f419",
   "metadata": {},
   "outputs": [],
   "source": []
  }
 ],
 "metadata": {
  "kernelspec": {
   "display_name": "Python 3 (ipykernel)",
   "language": "python",
   "name": "python3"
  },
  "language_info": {
   "codemirror_mode": {
    "name": "ipython",
    "version": 3
   },
   "file_extension": ".py",
   "mimetype": "text/x-python",
   "name": "python",
   "nbconvert_exporter": "python",
   "pygments_lexer": "ipython3",
   "version": "3.9.16"
  }
 },
 "nbformat": 4,
 "nbformat_minor": 5
}
