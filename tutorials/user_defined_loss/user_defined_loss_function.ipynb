{
 "cells": [
  {
   "cell_type": "markdown",
   "id": "0718c9e2",
   "metadata": {},
   "source": [
    "# User defined loss functions\n",
    "\n",
    "Here we will show how you can define your own loss functions to train a neural network."
   ]
  },
  {
   "cell_type": "code",
   "execution_count": 10,
   "id": "4e1f9dd3",
   "metadata": {},
   "outputs": [],
   "source": [
    "import os\n",
    "import numpy as np\n",
    "import matplotlib.pyplot as plt\n",
    "\n",
    "import easysurrogate as es"
   ]
  },
  {
   "cell_type": "code",
   "execution_count": 37,
   "id": "6a438a33",
   "metadata": {},
   "outputs": [],
   "source": [
    "plt.rcParams['image.cmap'] = 'seismic'"
   ]
  },
  {
   "cell_type": "markdown",
   "id": "907a1b94",
   "metadata": {},
   "source": [
    "We will use a very simple analytic function `f` to generate some training data"
   ]
  },
  {
   "cell_type": "code",
   "execution_count": 101,
   "id": "0c79927e",
   "metadata": {},
   "outputs": [],
   "source": [
    "def f(x1, x2):\n",
    "    \"\"\"\n",
    "    A simple analytic function.\n",
    "\n",
    "    Parameters\n",
    "    ----------\n",
    "    x1 : float or array of floats\n",
    "        First input.\n",
    "    x2 : float or array of floats\n",
    "        Second input.\n",
    "\n",
    "    Returns\n",
    "    -------\n",
    "    float or array of floats\n",
    "        Function values at (x1, x2).\n",
    "\n",
    "    \"\"\"\n",
    "    return np.array([np.sin(x1 ** 2), np.cos(x2)])"
   ]
  },
  {
   "cell_type": "markdown",
   "id": "ee77d976",
   "metadata": {},
   "source": [
    "Generate the training data"
   ]
  },
  {
   "cell_type": "code",
   "execution_count": 66,
   "id": "b18237a9",
   "metadata": {},
   "outputs": [],
   "source": [
    "n_train = 10000\n",
    "X = np.random.rand(n_train, 2)\n",
    "y = f(X[:, 0], X[:, 1]).T\n",
    "n_out = y.shape[1]"
   ]
  },
  {
   "cell_type": "markdown",
   "id": "f7dd5039",
   "metadata": {},
   "source": [
    "Here we train a standard ANN with the squared loss function (`loss=\"squared\"`) for the i-th mini batch:\n",
    "\n",
    "\\begin{align}\n",
    "L_i = ({\\bf y}_i - {\\bf h}_i)^2\n",
    "\\end{align}\n",
    "\n",
    "Here, ${\\bf y}_i$ and ${\\bf h}_i$ are the data and the ANN prediction respectively, both of dimension `n_out x batch_size`, i.e. `2 x 32` in this case. Hence these are **elementwise** values of the loss. Internally, the following gradient is computed:\n",
    "\n",
    "\\begin{align}\n",
    "\\frac{\\partial L_i}{\\partial {\\bf h}_i} = -2({\\bf y}_i - {\\bf h}_i)\n",
    "\\end{align}\n",
    "\n",
    "This gradient is then used to propagate the loss backwards through the network, and should again be interpreted as an elementwise gradient for each value of the mini batch."
   ]
  },
  {
   "cell_type": "code",
   "execution_count": 85,
   "id": "ed5dcfc8",
   "metadata": {},
   "outputs": [
    {
     "name": "stdout",
     "output_type": "stream",
     "text": [
      "Creating ANN_Surrogate Object\n",
      "Creating Feature Engineering object\n",
      "Using  10000/10000 samples to train the ML model\n",
      "===============================\n",
      "Neural net parameters\n",
      "===============================\n",
      "Number of layers = 3\n",
      "Number of features = 2\n",
      "Loss function = squared\n",
      "Number of neurons per hidden layer = 100\n",
      "Number of output neurons = 2\n",
      "Activation = ['linear', 'tanh', 'tanh', 'linear']\n",
      "This neural network has 10602 weights.\n",
      "===============================\n",
      "===============================\n",
      "Training Artificial Neural Network...\n"
     ]
    },
    {
     "name": "stderr",
     "output_type": "stream",
     "text": [
      "  0%|▋                                                                                                                                                                          | 19/5000 [00:00<00:26, 187.25it/s]"
     ]
    },
    {
     "name": "stdout",
     "output_type": "stream",
     "text": [
      " loss = 1.1027\n"
     ]
    },
    {
     "name": "stderr",
     "output_type": "stream",
     "text": [
      " 23%|███████████████████████████████████████▌                                                                                                                                 | 1169/5000 [00:01<00:04, 916.79it/s]"
     ]
    },
    {
     "name": "stdout",
     "output_type": "stream",
     "text": [
      " loss = 0.0002\n"
     ]
    },
    {
     "name": "stderr",
     "output_type": "stream",
     "text": [
      " 43%|█████████████████████████████████████████████████████████████████████████▍                                                                                               | 2173/5000 [00:02<00:02, 948.88it/s]"
     ]
    },
    {
     "name": "stdout",
     "output_type": "stream",
     "text": [
      " loss = 0.0001\n"
     ]
    },
    {
     "name": "stderr",
     "output_type": "stream",
     "text": [
      " 62%|████████████████████████████████████████████████████████████████████████████████████████████████████████▋                                                                | 3097/5000 [00:03<00:01, 960.11it/s]"
     ]
    },
    {
     "name": "stdout",
     "output_type": "stream",
     "text": [
      " loss = 0.0000\n"
     ]
    },
    {
     "name": "stderr",
     "output_type": "stream",
     "text": [
      " 83%|████████████████████████████████████████████████████████████████████████████████████████████████████████████████████████████████████████████▏                            | 4146/5000 [00:04<00:01, 833.59it/s]"
     ]
    },
    {
     "name": "stdout",
     "output_type": "stream",
     "text": [
      " loss = 0.0008\n"
     ]
    },
    {
     "name": "stderr",
     "output_type": "stream",
     "text": [
      "100%|█████████████████████████████████████████████████████████████████████████████████████████████████████████████████████████████████████████████████████████████████████████| 5000/5000 [00:05<00:00, 893.26it/s]\n"
     ]
    }
   ],
   "source": [
    "ANN = es.methods.ANN_Surrogate()\n",
    "n_iter = 5000\n",
    "ANN.train(X, y, n_iter,\n",
    "          loss = 'squared',\n",
    "          n_neurons = 100, n_layers = 3, \n",
    "          batch_size=32)"
   ]
  },
  {
   "cell_type": "markdown",
   "id": "65fd84c3",
   "metadata": {},
   "source": [
    "Make predictions at training data"
   ]
  },
  {
   "cell_type": "code",
   "execution_count": 83,
   "id": "3d59712a",
   "metadata": {},
   "outputs": [],
   "source": [
    "predictions = np.zeros([X.shape[0], n_out])\n",
    "for i, x in enumerate(X):\n",
    "    predictions[i] = ANN.predict(x)"
   ]
  },
  {
   "cell_type": "code",
   "execution_count": 98,
   "id": "48b2eda5",
   "metadata": {},
   "outputs": [
    {
     "data": {
      "image/png": "[encoded data removed]",
      "text/plain": [
       "<Figure size 800x400 with 4 Axes>"
      ]
     },
     "metadata": {},
     "output_type": "display_data"
    }
   ],
   "source": [
    "fig = plt.figure(figsize=[8,4])\n",
    "\n",
    "ax = fig.add_subplot(121, xlabel=r'$X_1$', ylabel=r'$X_2$', title='data y[0]', xlim=[0,1], ylim=[0,1])\n",
    "ct = ax.tricontourf(X[:, 0], X[:, 1], y[:, 0], 50)\n",
    "plt.colorbar(ct)\n",
    "\n",
    "ax = fig.add_subplot(122, xlabel=r'$X_1$', ylabel=r'$X_2$', title='ANN y[0]', xlim=[0,1], ylim=[0,1])\n",
    "ct = ax.tricontourf(X[:, 0], X[:, 1], predictions[:, 0], 50)\n",
    "plt.colorbar(ct)\n",
    "\n",
    "plt.tight_layout()"
   ]
  },
  {
   "cell_type": "markdown",
   "id": "6d09c4e4",
   "metadata": {},
   "source": [
    "### User defined loss\n",
    "\n",
    "Now, let's say we wish to use the following loss instead, which is not implemented:\n",
    "\n",
    "\\begin{align}\n",
    "L_i = |{\\bf y}_i - {\\bf h}_i|\n",
    "\\end{align}\n",
    "\n",
    "We can define the loss function which returns $L_i = |{\\bf y}_i - {\\bf h}_i|$ and the gradient $\\frac{\\partial L_i}{\\partial {\\bf h}_i} = -\\mathrm{sign}({\\bf y}_i - {\\bf h}_i)$. \n",
    "\n",
    "This function **needs to have the arguments `(h, y)`, in this order**."
   ]
  },
  {
   "cell_type": "code",
   "execution_count": 90,
   "id": "6c354efa",
   "metadata": {},
   "outputs": [],
   "source": [
    "def user_defined_loss(h, y):\n",
    "    \"\"\"\n",
    "    User defined loss L_i = |y_i - h_i|.\n",
    "\n",
    "    Parameters\n",
    "    ----------\n",
    "    h : array, shape (n_out, batch_size)\n",
    "        The minibatch ANN prediction of y.\n",
    "    y : array, shape (n_out, batch_size)\n",
    "        The minibatch training data.\n",
    "\n",
    "    Returns\n",
    "    -------\n",
    "    L_i : array, shape (n_out, batch_size)\n",
    "        Elementwise loss function values.\n",
    "    grad_L : array, shape (n_out, batch_size)\n",
    "        Elementwise loss function gradient values.\n",
    "\n",
    "    \"\"\"\n",
    "\n",
    "    loss = np.abs(y - h)\n",
    "    dloss_dh = -np.sign(y -h)\n",
    "\n",
    "    return loss, dloss_dh"
   ]
  },
  {
   "cell_type": "markdown",
   "id": "737c381e",
   "metadata": {},
   "source": [
    "We redefine the ANN, and just pass the user-defined loss function as `loss=user_defined_loss`"
   ]
  },
  {
   "cell_type": "code",
   "execution_count": 91,
   "id": "ce98c747",
   "metadata": {},
   "outputs": [
    {
     "name": "stdout",
     "output_type": "stream",
     "text": [
      "Creating ANN_Surrogate Object\n",
      "Creating Feature Engineering object\n",
      "Using  10000/10000 samples to train the ML model\n",
      "===============================\n",
      "Neural net parameters\n",
      "===============================\n",
      "Number of layers = 3\n",
      "Number of features = 2\n",
      "Loss function = <function user_defined_loss at 0x7f6d8b8893a0>\n",
      "Number of neurons per hidden layer = 100\n",
      "Number of output neurons = 2\n",
      "Activation = ['linear', 'tanh', 'tanh', 'linear']\n",
      "This neural network has 10602 weights.\n",
      "===============================\n",
      "===============================\n",
      "Training Artificial Neural Network...\n"
     ]
    },
    {
     "name": "stderr",
     "output_type": "stream",
     "text": [
      "  0%|▊                                                                                                                                                                          | 22/5000 [00:00<00:22, 218.81it/s]"
     ]
    },
    {
     "name": "stdout",
     "output_type": "stream",
     "text": [
      " loss = 1.0530\n"
     ]
    },
    {
     "name": "stderr",
     "output_type": "stream",
     "text": [
      " 23%|██████████████████████████████████████▊                                                                                                                                  | 1149/5000 [00:01<00:04, 843.77it/s]"
     ]
    },
    {
     "name": "stdout",
     "output_type": "stream",
     "text": [
      " loss = 0.0113\n"
     ]
    },
    {
     "name": "stderr",
     "output_type": "stream",
     "text": [
      " 43%|████████████████████████████████████████████████████████████████████████▏                                                                                                | 2136/5000 [00:02<00:02, 961.39it/s]"
     ]
    },
    {
     "name": "stdout",
     "output_type": "stream",
     "text": [
      " loss = 0.0123\n"
     ]
    },
    {
     "name": "stderr",
     "output_type": "stream",
     "text": [
      " 63%|█████████████████████████████████████████████████████████████████████████████████████████████████████████▉                                                               | 3133/5000 [00:03<00:01, 986.54it/s]"
     ]
    },
    {
     "name": "stdout",
     "output_type": "stream",
     "text": [
      " loss = 0.0097\n"
     ]
    },
    {
     "name": "stderr",
     "output_type": "stream",
     "text": [
      " 83%|███████████████████████████████████████████████████████████████████████████████████████████████████████████████████████████████████████████▌                             | 4130/5000 [00:04<00:00, 988.03it/s]"
     ]
    },
    {
     "name": "stdout",
     "output_type": "stream",
     "text": [
      " loss = 0.0088\n"
     ]
    },
    {
     "name": "stderr",
     "output_type": "stream",
     "text": [
      "100%|█████████████████████████████████████████████████████████████████████████████████████████████████████████████████████████████████████████████████████████████████████████| 5000/5000 [00:05<00:00, 914.72it/s]\n"
     ]
    }
   ],
   "source": [
    "ANN = es.methods.ANN_Surrogate()\n",
    "\n",
    "# number of mini batch iterations\n",
    "n_iter = 5000\n",
    "\n",
    "# train the ANN\n",
    "ANN.train(X, y, n_iter,\n",
    "          loss = user_defined_loss,\n",
    "          n_neurons = 100, n_layers = 3, \n",
    "          batch_size=32)"
   ]
  },
  {
   "cell_type": "markdown",
   "id": "bb2afe2e",
   "metadata": {},
   "source": [
    "Make predictions at training data"
   ]
  },
  {
   "cell_type": "code",
   "execution_count": 92,
   "id": "f883d0b2",
   "metadata": {},
   "outputs": [],
   "source": [
    "predictions = np.zeros([X.shape[0], n_out])\n",
    "for i, x in enumerate(X):\n",
    "    predictions[i] = ANN.predict(x)"
   ]
  },
  {
   "cell_type": "code",
   "execution_count": 99,
   "id": "1fae0392",
   "metadata": {},
   "outputs": [
    {
     "data": {
      "image/png": "[encoded data removed]",
      "text/plain": [
       "<Figure size 800x400 with 2 Axes>"
      ]
     },
     "metadata": {},
     "output_type": "display_data"
    }
   ],
   "source": [
    "fig = plt.figure(figsize=[8,4])\n",
    "\n",
    "ax = fig.add_subplot(121, xlabel=r'$X_1$', ylabel=r'$X_2$', title='data y[0]', xlim=[0,1], ylim=[0,1])\n",
    "ax.tricontourf(X[:, 0], X[:, 1], y[:, 0], 50)\n",
    "\n",
    "ax = fig.add_subplot(122, xlabel=r'$X_1$', ylabel=r'$X_2$', title='ANN y[0]', xlim=[0,1], ylim=[0,1])\n",
    "ax.tricontourf(X[:, 0], X[:, 1], predictions[:, 0], 50)\n",
    "\n",
    "plt.tight_layout()"
   ]
  },
  {
   "cell_type": "code",
   "execution_count": null,
   "id": "538601ed",
   "metadata": {},
   "outputs": [],
   "source": []
  }
 ],
 "metadata": {
  "kernelspec": {
   "display_name": "Python 3 (ipykernel)",
   "language": "python",
   "name": "python3"
  },
  "language_info": {
   "codemirror_mode": {
    "name": "ipython",
    "version": 3
   },
   "file_extension": ".py",
   "mimetype": "text/x-python",
   "name": "python",
   "nbconvert_exporter": "python",
   "pygments_lexer": "ipython3",
   "version": "3.9.16"
  }
 },
 "nbformat": 4,
 "nbformat_minor": 5
}
