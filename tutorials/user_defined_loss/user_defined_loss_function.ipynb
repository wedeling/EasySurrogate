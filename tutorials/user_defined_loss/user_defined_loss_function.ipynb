{
 "cells": [
  {
   "cell_type": "markdown",
   "id": "0718c9e2",
   "metadata": {},
   "source": [
    "# User defined loss functions\n",
    "\n",
    "Here we will show how you can define your own loss functions to train a neural network."
   ]
  },
  {
   "cell_type": "code",
   "execution_count": 45,
   "id": "4e1f9dd3",
   "metadata": {},
   "outputs": [],
   "source": [
    "import os\n",
    "import numpy as np\n",
    "import matplotlib.pyplot as plt\n",
    "\n",
    "import easysurrogate as es"
   ]
  },
  {
   "cell_type": "code",
   "execution_count": 46,
   "id": "6a438a33",
   "metadata": {},
   "outputs": [],
   "source": [
    "plt.rcParams['image.cmap'] = 'seismic'"
   ]
  },
  {
   "cell_type": "markdown",
   "id": "907a1b94",
   "metadata": {},
   "source": [
    "We will use a very simple analytic function `f` to generate some training data"
   ]
  },
  {
   "cell_type": "code",
   "execution_count": 66,
   "id": "0c79927e",
   "metadata": {},
   "outputs": [],
   "source": [
    "def f(x1, x2):\n",
    "    \"\"\"\n",
    "    A simple analytic function.\n",
    "\n",
    "    Parameters\n",
    "    ----------\n",
    "    x1 : float or array of floats\n",
    "        First input.\n",
    "    x2 : float or array of floats\n",
    "        Second input.\n",
    "\n",
    "    Returns\n",
    "    -------\n",
    "    float or array of floats\n",
    "        Function values at (x1, x2).\n",
    "\n",
    "    \"\"\"\n",
    "    return np.array([np.sin(x1 ** 2) * np.cos(x2), np.cos(x2)])"
   ]
  },
  {
   "cell_type": "markdown",
   "id": "ee77d976",
   "metadata": {},
   "source": [
    "Generate the training data"
   ]
  },
  {
   "cell_type": "code",
   "execution_count": 67,
   "id": "b18237a9",
   "metadata": {},
   "outputs": [],
   "source": [
    "n_train = 10000\n",
    "X = np.random.rand(n_train, 2)\n",
    "y = f(X[:, 0], X[:, 1]).T\n",
    "n_out = y.shape[1]"
   ]
  },
  {
   "cell_type": "markdown",
   "id": "f7dd5039",
   "metadata": {},
   "source": [
    "### Squared loss and its dimensions\n",
    "\n",
    "Here we train a standard ANN with the squared (scalar) loss function (`loss=\"squared\"`):\n",
    "\n",
    "\\begin{align}\n",
    "L = \\frac{1}{n_{out}}\\sum_{j=1}^{n_{out}}(y_j - h_j)^2 \\in\\mathbb{R}\n",
    "\\end{align}\n",
    "\n",
    "Here, $y_j$ and $h_j$ are the j-th data point and ANN predictions of the j-th neuron, with $j=1,\\cdots,n_{out}$. Hence their dimensions are:\n",
    "\n",
    "Internally, the following gradient is computed:\n",
    "\n",
    "\\begin{align}\n",
    "\\frac{\\partial L}{\\partial {\\bf h}} = -\\frac{2}{n_{out}}({\\bf y} - {\\bf h})\\in\\mathbb{R}^{n_{out}\\times 1}\n",
    "\\end{align}\n",
    "\n",
    "Note that here;\n",
    "* ${\\bf y} = [y_1,\\cdots,y_{n_{out}}]^T\\in\\mathbb{R}^{n_{out}\\times 1}$ and,\n",
    "* ${\\bf h}= [h_1,\\cdots,h_{n_{out}}]^T\\in\\mathbb{R}^{n_{out}\\times 1}$\n",
    "\n",
    "are the full data vector and ANN prediction, respectively. Note that this is the **loss gradient per output neuron**, which is then used to backpropagate the loss backwards through the network.\n",
    "\n",
    "If `batch_size` > 1 , the process is done simultaneously for each mini batch sample, such that the dimensions change:\n",
    "\n",
    "\\begin{align}\n",
    "\\frac{\\partial L}{\\partial H} = -\\frac{2}{n_{out}}(Y - H)\\in\\mathbb{R}^{n_{out}\\times B}\n",
    "\\end{align}\n",
    "\n",
    "Here, $Y,H$ are now $n_{out}\\times B$ matrices ($B$=`batch_size`), comprised of the different ${\\bf y}$, ${\\bf h}$ vectors, one for each mini batch sample. \n",
    "\n",
    "Note there is some abuse of notation, as each column of the gradient above corresponds to a different $\\partial L_i/\\partial {\\bf h}_i$, $i=1,\\cdots,B$, i.e. $L$ is also indexed by $i$."
   ]
  },
  {
   "cell_type": "code",
   "execution_count": null,
   "id": "ed5dcfc8",
   "metadata": {},
   "outputs": [
    {
     "name": "stdout",
     "output_type": "stream",
     "text": [
      "Creating ANN_Surrogate Object\n",
      "Creating Feature Engineering object\n",
      "Using  10000/10000 samples to train the ML model\n",
      "===============================\n",
      "Neural net parameters\n",
      "===============================\n",
      "Number of layers = 3\n",
      "Number of features = 2\n",
      "Loss function = squared\n",
      "Number of neurons per hidden layer = 100\n",
      "Number of output neurons = 2\n",
      "Activation = ['linear', 'tanh', 'tanh', 'linear']\n",
      "This neural network has 10602 weights.\n",
      "===============================\n",
      "===============================\n",
      "Training Artificial Neural Network...\n"
     ]
    },
    {
     "name": "stderr",
     "output_type": "stream",
     "text": [
      "  1%|█                                                                                                                                                                   | 33/5000 [00:00<00:15, 323.92it/s]"
     ]
    },
    {
     "name": "stdout",
     "output_type": "stream",
     "text": [
      " loss = 0.9221\n"
     ]
    },
    {
     "name": "stderr",
     "output_type": "stream",
     "text": [
      " 19%|██████████████████████████████▌                                                                                                                                    | 938/5000 [00:01<00:04, 962.07it/s]"
     ]
    }
   ],
   "source": [
    "ANN = es.methods.ANN_Surrogate()\n",
    "n_iter = 5000\n",
    "ANN.train(X, y, n_iter,\n",
    "          loss = 'squared',\n",
    "          n_neurons = 100, n_layers = 3, \n",
    "          batch_size = 32)"
   ]
  },
  {
   "cell_type": "markdown",
   "id": "65fd84c3",
   "metadata": {},
   "source": [
    "Make predictions at training data"
   ]
  },
  {
   "cell_type": "code",
   "execution_count": 58,
   "id": "3d59712a",
   "metadata": {},
   "outputs": [],
   "source": [
    "predictions = np.zeros([X.shape[0], n_out])\n",
    "for i, x in enumerate(X):\n",
    "    predictions[i] = ANN.predict(x)"
   ]
  },
  {
   "cell_type": "code",
   "execution_count": 59,
   "id": "48b2eda5",
   "metadata": {},
   "outputs": [
    {
     "data": {
      "image/png": "[encoded data removed]",
      "text/plain": [
       "<Figure size 800x400 with 4 Axes>"
      ]
     },
     "metadata": {},
     "output_type": "display_data"
    }
   ],
   "source": [
    "fig = plt.figure(figsize=[8, 4])\n",
    "\n",
    "ax = fig.add_subplot(121, xlabel=r'$X_1$', ylabel=r'$X_2$', title='data y[0]', xlim=[0,1], ylim=[0,1])\n",
    "ct = ax.tricontourf(X[:, 0], X[:, 1], y[:, 0], 50)\n",
    "plt.colorbar(ct)\n",
    "\n",
    "ax = fig.add_subplot(122, xlabel=r'$X_1$', ylabel=r'$X_2$', title='ANN y[0]', xlim=[0,1], ylim=[0,1])\n",
    "ct = ax.tricontourf(X[:, 0], X[:, 1], predictions[:, 0], 50)\n",
    "plt.colorbar(ct)\n",
    "\n",
    "plt.tight_layout()"
   ]
  },
  {
   "cell_type": "markdown",
   "id": "6d09c4e4",
   "metadata": {},
   "source": [
    "### User defined loss\n",
    "\n",
    "Now, let's say we wish to use the following (mean absolute) loss instead, which is not implemented:\n",
    "\n",
    "\\begin{align}\n",
    "L = \\frac{1}{n_{out}}\\sum|y_j - {\\bf h}_j|\n",
    "\\end{align}\n",
    "\n",
    "We can define the loss function which returns $L$ and the corresponding loss gradient per output neuron per mini batch sample:\n",
    "\n",
    "\\begin{align}\n",
    "\\frac{\\partial L}{\\partial {\\bf h}_j} = -\\frac{1}{n_{out}}\\mathrm{sign}({\\bf y} - H)\n",
    "\\end{align}\n",
    "\n",
    "The `sign` function acts elementwise.\n",
    "\n",
    "This function **needs to have the arguments `(h, y)`, in this order**."
   ]
  },
  {
   "cell_type": "code",
   "execution_count": 60,
   "id": "6c354efa",
   "metadata": {},
   "outputs": [],
   "source": [
    "def user_defined_loss(h, y):\n",
    "    \"\"\"\n",
    "    User defined mean absolute loss L = sum |y_j - h_j| / n_out.\n",
    "\n",
    "    Parameters\n",
    "    ----------\n",
    "    h : array, shape (n_out, batch_size)\n",
    "        The minibatch ANN prediction of y.\n",
    "    y : array, shape (n_out, batch_size)\n",
    "        The minibatch training data.\n",
    "\n",
    "    Returns\n",
    "    -------\n",
    "    L_i : array, shape (n_out, batch_size)\n",
    "        Elementwise loss function values.\n",
    "    grad_L : array, shape (n_out, batch_size)\n",
    "        Elementwise loss function gradient values.\n",
    "\n",
    "    \"\"\"\n",
    "\n",
    "    loss = np.sum(np.abs(y - h), axis=0) / y.shape[0]\n",
    "    dloss_dh = -np.sign(y - h) / y.shape[0]\n",
    "\n",
    "    return loss, dloss_dh"
   ]
  },
  {
   "cell_type": "markdown",
   "id": "737c381e",
   "metadata": {},
   "source": [
    "We redefine the ANN, and just pass the user-defined loss function as `loss=user_defined_loss`"
   ]
  },
  {
   "cell_type": "code",
   "execution_count": 61,
   "id": "ce98c747",
   "metadata": {},
   "outputs": [
    {
     "name": "stdout",
     "output_type": "stream",
     "text": [
      "Creating ANN_Surrogate Object\n",
      "Creating Feature Engineering object\n",
      "Using  10000/10000 samples to train the ML model\n",
      "===============================\n",
      "Neural net parameters\n",
      "===============================\n",
      "Number of layers = 3\n",
      "Number of features = 2\n",
      "Loss function = <function user_defined_loss at 0x7f033970a1f0>\n",
      "Number of neurons per hidden layer = 100\n",
      "Number of output neurons = 2\n",
      "Activation = ['linear', 'tanh', 'tanh', 'linear']\n",
      "This neural network has 10602 weights.\n",
      "===============================\n",
      "===============================\n",
      "Training Artificial Neural Network...\n"
     ]
    },
    {
     "name": "stderr",
     "output_type": "stream",
     "text": [
      "  2%|██▉                                                                                                                                                                 | 91/5000 [00:00<00:05, 906.91it/s]"
     ]
    },
    {
     "name": "stdout",
     "output_type": "stream",
     "text": [
      " loss = 0.8751\n"
     ]
    },
    {
     "name": "stderr",
     "output_type": "stream",
     "text": [
      " 23%|█████████████████████████████████████▋                                                                                                                            | 1164/5000 [00:01<00:04, 924.04it/s]"
     ]
    },
    {
     "name": "stdout",
     "output_type": "stream",
     "text": [
      " loss = 0.0154\n"
     ]
    },
    {
     "name": "stderr",
     "output_type": "stream",
     "text": [
      " 43%|█████████████████████████████████████████████████████████████████████▉                                                                                            | 2160/5000 [00:02<00:02, 979.74it/s]"
     ]
    },
    {
     "name": "stdout",
     "output_type": "stream",
     "text": [
      " loss = 0.0070\n"
     ]
    },
    {
     "name": "stderr",
     "output_type": "stream",
     "text": [
      " 63%|██████████████████████████████████████████████████████████████████████████████████████████████████████▎                                                           | 3159/5000 [00:03<00:01, 950.12it/s]"
     ]
    },
    {
     "name": "stdout",
     "output_type": "stream",
     "text": [
      " loss = 0.0073\n"
     ]
    },
    {
     "name": "stderr",
     "output_type": "stream",
     "text": [
      " 83%|██████████████████████████████████████████████████████████████████████████████████████████████████████████████████████████████████████▌                           | 4153/5000 [00:04<00:00, 967.19it/s]"
     ]
    },
    {
     "name": "stdout",
     "output_type": "stream",
     "text": [
      " loss = 0.0087\n"
     ]
    },
    {
     "name": "stderr",
     "output_type": "stream",
     "text": [
      "100%|██████████████████████████████████████████████████████████████████████████████████████████████████████████████████████████████████████████████████████████████████| 5000/5000 [00:05<00:00, 966.33it/s]\n"
     ]
    }
   ],
   "source": [
    "ANN = es.methods.ANN_Surrogate()\n",
    "\n",
    "# number of mini batch iterations\n",
    "n_iter = 5000\n",
    "\n",
    "# train the ANN\n",
    "ANN.train(X, y, n_iter,\n",
    "          loss = user_defined_loss,\n",
    "          n_neurons = 100, n_layers = 3, \n",
    "          batch_size=32)"
   ]
  },
  {
   "cell_type": "markdown",
   "id": "bb2afe2e",
   "metadata": {},
   "source": [
    "Make predictions at training data"
   ]
  },
  {
   "cell_type": "code",
   "execution_count": 62,
   "id": "f883d0b2",
   "metadata": {},
   "outputs": [],
   "source": [
    "predictions = np.zeros([X.shape[0], n_out])\n",
    "for i, x in enumerate(X):\n",
    "    predictions[i] = ANN.predict(x)"
   ]
  },
  {
   "cell_type": "code",
   "execution_count": 63,
   "id": "1fae0392",
   "metadata": {},
   "outputs": [
    {
     "data": {
      "image/png": "[encoded data removed]",
      "text/plain": [
       "<Figure size 800x400 with 2 Axes>"
      ]
     },
     "metadata": {},
     "output_type": "display_data"
    }
   ],
   "source": [
    "fig = plt.figure(figsize=[8,4])\n",
    "\n",
    "ax = fig.add_subplot(121, xlabel=r'$X_1$', ylabel=r'$X_2$', title='data y[0]', xlim=[0,1], ylim=[0,1])\n",
    "ax.tricontourf(X[:, 0], X[:, 1], y[:, 0], 50)\n",
    "\n",
    "ax = fig.add_subplot(122, xlabel=r'$X_1$', ylabel=r'$X_2$', title='ANN y[0]', xlim=[0,1], ylim=[0,1])\n",
    "ax.tricontourf(X[:, 0], X[:, 1], predictions[:, 0], 50)\n",
    "\n",
    "plt.tight_layout()"
   ]
  },
  {
   "cell_type": "code",
   "execution_count": null,
   "id": "e8e47676",
   "metadata": {},
   "outputs": [],
   "source": []
  }
 ],
 "metadata": {
  "kernelspec": {
   "display_name": "Python 3 (ipykernel)",
   "language": "python",
   "name": "python3"
  },
  "language_info": {
   "codemirror_mode": {
    "name": "ipython",
    "version": 3
   },
   "file_extension": ".py",
   "mimetype": "text/x-python",
   "name": "python",
   "nbconvert_exporter": "python",
   "pygments_lexer": "ipython3",
   "version": "3.9.16"
  }
 },
 "nbformat": 4,
 "nbformat_minor": 5
}
