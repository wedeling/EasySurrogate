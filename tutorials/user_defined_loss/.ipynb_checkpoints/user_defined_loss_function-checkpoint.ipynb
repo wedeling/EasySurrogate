{
 "cells": [
  {
   "cell_type": "markdown",
   "id": "25a6f384",
   "metadata": {},
   "source": [
    "# User defined loss functions\n",
    "\n",
    "Here we will show how you can define your own loss functions to train a neural network."
   ]
  },
  {
   "cell_type": "code",
   "execution_count": 10,
   "id": "8121bb37",
   "metadata": {},
   "outputs": [],
   "source": [
    "import os\n",
    "import numpy as np\n",
    "import matplotlib.pyplot as plt\n",
    "\n",
    "import easysurrogate as es"
   ]
  },
  {
   "cell_type": "markdown",
   "id": "ceb37677",
   "metadata": {},
   "source": [
    "We will use a very simple analytic function `f` to generate some training data"
   ]
  },
  {
   "cell_type": "code",
   "execution_count": 2,
   "id": "2c2451a2",
   "metadata": {},
   "outputs": [],
   "source": [
    "def f(x1, x2):\n",
    "    \"\"\"\n",
    "    A simple analytic function.\n",
    "\n",
    "    Parameters\n",
    "    ----------\n",
    "    x1 : float or array of floats\n",
    "        First input.\n",
    "    x2 : float or array of floats\n",
    "        Second input.\n",
    "\n",
    "    Returns\n",
    "    -------\n",
    "    float or array of floats\n",
    "        Function value(s) at (x1, x2).\n",
    "\n",
    "    \"\"\"\n",
    "    return np.sin(x1 ** 2) + np.cos(x2)"
   ]
  },
  {
   "cell_type": "markdown",
   "id": "b98271f9",
   "metadata": {},
   "source": [
    "Generate the training data"
   ]
  },
  {
   "cell_type": "code",
   "execution_count": 3,
   "id": "10381add",
   "metadata": {},
   "outputs": [],
   "source": [
    "X = np.random.rand(10000, 2)\n",
    "y = f(X[:, 0], X[:, 1])"
   ]
  },
  {
   "cell_type": "markdown",
   "id": "16f7f5c0",
   "metadata": {},
   "source": [
    "Here we train a standard ANN with the squared loss function (`loss=\"squared\"`) for the i-th mini batch:\n",
    "\n",
    "\\begin{align}\n",
    "L_i = ({\\bf y}_i - {\\bf h}_i)^2\n",
    "\\end{align}\n",
    "\n",
    "Here, ${\\bf y}_i$ and ${\\bf h}_i$ are the data and the ANN prediction respectively, both of dimension `n_out x batch_size`, i.e. `1 x 32` in this case. Hence these are **elementwise** values of the loss. Internally, the following gradient is computed:\n",
    "\n",
    "\\begin{align}\n",
    "\\frac{\\partial L_i}{\\partial {\\bf h}_i} = -2({\\bf y}_i - {\\bf h}_i)\n",
    "\\end{align}\n",
    "\n",
    "This should again be interpreted as an elementwise gradient for each value of the mini batch."
   ]
  },
  {
   "cell_type": "code",
   "execution_count": 7,
   "id": "72d56932",
   "metadata": {},
   "outputs": [
    {
     "name": "stdout",
     "output_type": "stream",
     "text": [
      "===============================\n",
      "Neural net parameters\n",
      "===============================\n",
      "Number of layers = 3\n",
      "Number of features = 2\n",
      "Loss function = squared\n",
      "Number of neurons per hidden layer = 100\n",
      "Number of output neurons = 1\n",
      "Activation = ['linear', 'tanh', 'tanh', 'linear']\n",
      "This neural network has 10501 weights.\n",
      "===============================\n"
     ]
    },
    {
     "name": "stderr",
     "output_type": "stream",
     "text": [
      "  0%|▊                                                                                                                                                                          | 22/5000 [00:00<00:22, 217.86it/s]"
     ]
    },
    {
     "name": "stdout",
     "output_type": "stream",
     "text": [
      " loss = 1.5267\n"
     ]
    },
    {
     "name": "stderr",
     "output_type": "stream",
     "text": [
      " 23%|██████████████████████████████████████▋                                                                                                                                  | 1143/5000 [00:01<00:04, 862.28it/s]"
     ]
    },
    {
     "name": "stdout",
     "output_type": "stream",
     "text": [
      " loss = 0.0001\n"
     ]
    },
    {
     "name": "stderr",
     "output_type": "stream",
     "text": [
      " 44%|█████████████████████████████████████████████████████████████████████████▏                                                                                              | 2179/5000 [00:02<00:02, 1027.89it/s]"
     ]
    },
    {
     "name": "stdout",
     "output_type": "stream",
     "text": [
      " loss = 0.0001\n"
     ]
    },
    {
     "name": "stderr",
     "output_type": "stream",
     "text": [
      " 63%|█████████████████████████████████████████████████████████████████████████████████████████████████████████▌                                                              | 3142/5000 [00:03<00:01, 1024.86it/s]"
     ]
    },
    {
     "name": "stdout",
     "output_type": "stream",
     "text": [
      " loss = 0.0000\n"
     ]
    },
    {
     "name": "stderr",
     "output_type": "stream",
     "text": [
      " 84%|█████████████████████████████████████████████████████████████████████████████████████████████████████████████████████████████████████████████▎                           | 4181/5000 [00:04<00:00, 954.45it/s]"
     ]
    },
    {
     "name": "stdout",
     "output_type": "stream",
     "text": [
      " loss = 0.0000\n"
     ]
    },
    {
     "name": "stderr",
     "output_type": "stream",
     "text": [
      "100%|█████████████████████████████████████████████████████████████████████████████████████████████████████████████████████████████████████████████████████████████████████████| 5000/5000 [00:05<00:00, 955.12it/s]\n"
     ]
    }
   ],
   "source": [
    "ANN = es.methods.ANN(X, y, loss='squared', \n",
    "                    n_neurons = 100, n_layers = 3, \n",
    "                    batch_size=32)\n",
    "ANN.train(5000)"
   ]
  },
  {
   "cell_type": "markdown",
   "id": "2eb7ec15",
   "metadata": {},
   "source": [
    "### User defined loss\n",
    "\n",
    "Now, let's say we wish to use the following loss instead, which is not implemented:\n",
    "\n",
    "\\begin{align}\n",
    "L_i = |{\\bf y}_i - {\\bf h}_i|\n",
    "\\end{align}\n",
    "\n",
    "We can define the loss following function"
   ]
  },
  {
   "cell_type": "code",
   "execution_count": 8,
   "id": "68b39d74",
   "metadata": {},
   "outputs": [],
   "source": [
    "def loss(h, y):\n",
    "    \"\"\"\n",
    "    User defined loss L_i = |y_i - h_i|.\n",
    "\n",
    "    Parameters\n",
    "    ----------\n",
    "    h : array, shape (n_out, batch_size)\n",
    "        The minibatch ANN prediction of y.\n",
    "    y : array, shape (n_out, batch_size)\n",
    "        The minibatch training data.\n",
    "\n",
    "    Returns\n",
    "    -------\n",
    "    L_i : array, shape (n_out, batch_size)\n",
    "        Elementwise loss function values.\n",
    "    grad_L : array, shape (n_out, batch_size)\n",
    "        Elementwise loss function gradient values.\n",
    "\n",
    "    \"\"\"\n",
    "\n",
    "    loss = np.abs(y - h)\n",
    "    dloss_dh = -np.sign(y-h)\n",
    "\n",
    "    return loss, dloss_dh"
   ]
  },
  {
   "cell_type": "code",
   "execution_count": 9,
   "id": "1d9c5f3a",
   "metadata": {},
   "outputs": [
    {
     "name": "stdout",
     "output_type": "stream",
     "text": [
      "===============================\n",
      "Neural net parameters\n",
      "===============================\n",
      "Number of layers = 3\n",
      "Number of features = 2\n",
      "Loss function = <function loss at 0x7f6da0cfa8b0>\n",
      "Number of neurons per hidden layer = 100\n",
      "Number of output neurons = 1\n",
      "Activation = ['linear', 'tanh', 'tanh', 'linear']\n",
      "This neural network has 10501 weights.\n",
      "===============================\n"
     ]
    },
    {
     "name": "stderr",
     "output_type": "stream",
     "text": [
      "  1%|▉                                                                                                                                                                          | 26/5000 [00:00<00:19, 257.59it/s]"
     ]
    },
    {
     "name": "stdout",
     "output_type": "stream",
     "text": [
      " loss = 0.6390\n"
     ]
    },
    {
     "name": "stderr",
     "output_type": "stream",
     "text": [
      " 23%|██████████████████████████████████████▌                                                                                                                                  | 1140/5000 [00:01<00:04, 896.20it/s]"
     ]
    },
    {
     "name": "stdout",
     "output_type": "stream",
     "text": [
      " loss = 0.0101\n"
     ]
    },
    {
     "name": "stderr",
     "output_type": "stream",
     "text": [
      " 43%|███████████████████████████████████████████████████████████████████████▊                                                                                                | 2137/5000 [00:02<00:02, 1024.89it/s]"
     ]
    },
    {
     "name": "stdout",
     "output_type": "stream",
     "text": [
      " loss = 0.0057\n"
     ]
    },
    {
     "name": "stderr",
     "output_type": "stream",
     "text": [
      " 64%|███████████████████████████████████████████████████████████████████████████████████████████████████████████▊                                                            | 3207/5000 [00:03<00:01, 1048.06it/s]"
     ]
    },
    {
     "name": "stdout",
     "output_type": "stream",
     "text": [
      " loss = 0.0055\n"
     ]
    },
    {
     "name": "stderr",
     "output_type": "stream",
     "text": [
      " 83%|███████████████████████████████████████████████████████████████████████████████████████████████████████████████████████████████████████████▉                            | 4164/5000 [00:04<00:00, 1006.43it/s]"
     ]
    },
    {
     "name": "stdout",
     "output_type": "stream",
     "text": [
      " loss = 0.0096\n"
     ]
    },
    {
     "name": "stderr",
     "output_type": "stream",
     "text": [
      "100%|█████████████████████████████████████████████████████████████████████████████████████████████████████████████████████████████████████████████████████████████████████████| 5000/5000 [00:05<00:00, 978.44it/s]\n"
     ]
    }
   ],
   "source": [
    "ANN = es.methods.ANN(X, y, loss=loss, \n",
    "                    n_neurons = 100, n_layers = 3, \n",
    "                    batch_size=32)\n",
    "ANN.train(5000)"
   ]
  },
  {
   "cell_type": "code",
   "execution_count": 12,
   "id": "6bc833dd",
   "metadata": {},
   "outputs": [
    {
     "data": {
      "text/plain": [
       "(1, 32)"
      ]
     },
     "execution_count": 12,
     "metadata": {},
     "output_type": "execute_result"
    }
   ],
   "source": [
    "ANN.layers[-1].h.shape"
   ]
  },
  {
   "cell_type": "code",
   "execution_count": null,
   "id": "71b819e7",
   "metadata": {},
   "outputs": [],
   "source": []
  }
 ],
 "metadata": {
  "kernelspec": {
   "display_name": "Python 3 (ipykernel)",
   "language": "python",
   "name": "python3"
  },
  "language_info": {
   "codemirror_mode": {
    "name": "ipython",
    "version": 3
   },
   "file_extension": ".py",
   "mimetype": "text/x-python",
   "name": "python",
   "nbconvert_exporter": "python",
   "pygments_lexer": "ipython3",
   "version": "3.9.16"
  }
 },
 "nbformat": 4,
 "nbformat_minor": 5
}
