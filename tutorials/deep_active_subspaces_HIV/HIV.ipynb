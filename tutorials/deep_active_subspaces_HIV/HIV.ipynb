{
 "cells": [
  {
   "cell_type": "markdown",
   "id": "905ed8f7",
   "metadata": {},
   "source": [
    "# Deep active subspaces for a HIV model \n",
    "\n",
    "This is a notebook tutorial based on the results of Section 8 of\n",
    "\n",
    "Edeling, W. (2023). [On the deep active-subspace method](https://doi.org/10.1137/21M1463240). SIAM/ASA Journal on Uncertainty Quantification, 11(1), 62-90.\n",
    "\n",
    "Here we will apply the deep active subspace method [1] to an HIV model consisting of 7 coupled ordinary differential equations [2], with 27 uncertain input parameters. The equations are:\n",
    "\n",
    "\\begin{align}\n",
    "\\frac{dT}{dt} &= s_1 + \\frac{p_1}{C_1+V}TV - \\delta_1T - (K_1V + K_2M_I)T,\\nonumber\\\\\n",
    "\\frac{dT_I}{dt} &= \\psi(K_1V + K_2M_I)T + \\alpha_1T_L-\\delta_2T_I-K_3T_ICTL,\\nonumber\\\\\n",
    "\\frac{dT_L}{dt} &= (1-\\psi)(K_1V+K_2M_I)T-\\alpha_1T_L-\\delta_3T_L,\\nonumber\\\\\n",
    "\\frac{dM}{dt} &= s_2+K_4MV-K_5MV-\\delta_4M,\\nonumber\\\\\n",
    "\\frac{dM_I}{dt} &= K_5MV-\\delta_5M_I-K_6M_ICTL,\\nonumber\\\\\n",
    "\\frac{dCTL}{dt} &= s_3 + (K_7T_I+K_8M_I)CTL-\\delta_6CTL,\\nonumber\\\\\n",
    "\\frac{dV}{dt} &= K_9T_I+K_{10}M_I-K_{11}TV-(K_{12}+K_{13})MV-\\delta_7V,\n",
    "\\end{align}\n",
    "\n",
    "The 27 input parameters are **prescribed uniform distributions with boundaries set at $\\pm$ 2.5\\% of their nominal values** (see the Supplementary Materials of the article above for specific values, and for a description of the ODE variables). We just note that our (scalar) quantity of interest is the T-cell count $T(t)$ at a given time, and we refer to [2] for further information on the model.\n",
    "\n",
    "[1] Tripathy, R., & Bilionis, I. (2019, August). Deep active subspaces: A scalable method for high-dimensional uncertainty propagation. In International Design Engineering Technical Conferences and Computers and Information in Engineering Conference (Vol. 59179, p. V001T02A074). American Society of Mechanical Engineers.\n",
    "\n",
    "[2] Loudon, T., & Pankavich, S. (2017). Mathematical analysis and dynamic active subspaces for a long term model of HIV. Mathematical Biosciences and Engineering, 14(3), 709-733.\n",
    "\n",
    "### Requirements\n",
    "\n",
    "The Deep Active Subspace method is implemented in [EasySurrogate](https://github.com/wedeling/EasySurrogate). To install, simply uncomment the `!pip install` line below. Furthermore, `scipy`, `seaborn` and `pandas` are also required."
   ]
  },
  {
   "cell_type": "code",
   "execution_count": 1,
   "id": "21d79ecb",
   "metadata": {},
   "outputs": [],
   "source": [
    "#!pip install easysurrogate"
   ]
  },
  {
   "cell_type": "code",
   "execution_count": 2,
   "id": "2defd753",
   "metadata": {},
   "outputs": [],
   "source": [
    "import numpy as np\n",
    "import matplotlib.pyplot as plt\n",
    "import easysurrogate as es\n",
    "from scipy import linalg\n",
    "import pandas as pd\n",
    "import seaborn as sns"
   ]
  },
  {
   "cell_type": "code",
   "execution_count": 3,
   "id": "e947a0de",
   "metadata": {},
   "outputs": [],
   "source": [
    "# select the seismic color scheme\n",
    "plt.rcParams['image.cmap'] = 'seismic'"
   ]
  },
  {
   "cell_type": "markdown",
   "id": "726ca982",
   "metadata": {},
   "source": [
    "### EasySurrogate campaign\n",
    "\n",
    "EasySurrogate's basic object is called a `campaign', which handles the data. "
   ]
  },
  {
   "cell_type": "code",
   "execution_count": 4,
   "id": "945e9f60",
   "metadata": {},
   "outputs": [],
   "source": [
    "# Create EasySurrogate campaign\n",
    "campaign = es.Campaign()"
   ]
  },
  {
   "cell_type": "markdown",
   "id": "41de8c9a",
   "metadata": {},
   "source": [
    "### Load training data\n",
    "\n",
    "Here we use the campaign to load the training data, which is precomputed and stored in the `my_samples.hdf5` file. We also load the model gradients from https://github.com/paulcon/as-data-sets/tree/master/HIV to compute the reference (original) active subspace."
   ]
  },
  {
   "cell_type": "code",
   "execution_count": 5,
   "id": "089a0781",
   "metadata": {},
   "outputs": [
    {
     "name": "stdout",
     "output_type": "stream",
     "text": [
      "Loaded inputs\n",
      "Loaded outputs\n"
     ]
    }
   ],
   "source": [
    "##########################\n",
    "# Generate training data #\n",
    "##########################\n",
    "\n",
    "# number of inputs\n",
    "D = 27\n",
    "\n",
    "# the times (in days) at which the HIV model was sampled\n",
    "times = np.array([5, 15, 24, 38, 40, 45, 50, 55, 65, 90, 140, 500, 750,\n",
    "                  1000, 1600, 1800, 2000, 2200, 2400, 2800, 3400])\n",
    "T = times.size\n",
    "\n",
    "# Use derivative data from https://github.com/paulcon/as-data-sets/tree/master/HIV\n",
    "derivatives = pd.read_csv('./gradients.csv').values[:, 1:]\n",
    "derivatives = derivatives.reshape([-1, T, D])\n",
    "\n",
    "# Load HDF5 training data using the Campaign\n",
    "data = campaign.load_hdf5_data(file_path='my_samples.hdf5')\n",
    "# input parameters in [-1, 1]\n",
    "params = data['inputs']\n",
    "# output (T-cell counts at times)\n",
    "samples = data['outputs']\n",
    "\n",
    "# time index at which to construct an active subspace\n",
    "I = -1\n",
    "samples = samples[:, I].reshape([-1, 1])\n",
    "derivatives = derivatives[:, I, :]\n",
    "# scale the derivatives for consistency with the standardized ANN and DAS results\n",
    "derivatives /= np.std(samples)"
   ]
  },
  {
   "cell_type": "markdown",
   "id": "b12d97ec",
   "metadata": {},
   "source": [
    "### Select $d$\n",
    "\n",
    "We select $d=1$, i.e. we are constructing a 1D active subspace."
   ]
  },
  {
   "cell_type": "code",
   "execution_count": 6,
   "id": "bd53717c",
   "metadata": {},
   "outputs": [],
   "source": [
    "########################################\n",
    "# choose the active subspace dimension #\n",
    "########################################\n",
    "d = 1"
   ]
  },
  {
   "cell_type": "markdown",
   "id": "b37f5503",
   "metadata": {},
   "source": [
    "### Compute the reference active subspace\n",
    "\n",
    "Here we compute the reference active subspace, by using the derivative data from https://github.com/paulcon/as-data-sets/tree/master/HIV\n",
    "\n",
    "This involves computing the eigenvalues from:\n",
    "\n",
    "\\begin{align}\n",
    " C_{ref} = \\mathbb{E}\\left[\\left(\\nabla f\\left({\\bf x}\\right)\\right)\\left(\\nabla f\\left({\\bf x}\\right)\\right)^T\\right] = \\int \\left(\\nabla f\\left({\\bf x}\\right)\\right)\\left(\\nabla f\\left({\\bf x}\\right)\\right)^T p(\\bf x)d{\\bf x}.\n",
    " \\label{eq:C}\n",
    "\\end{align}\n",
    "\n",
    "Here $p(\\bf x)$ is the joint input probability density function. $C_{ref}$ is approximated by Monte Carlo:"
   ]
  },
  {
   "cell_type": "code",
   "execution_count": 7,
   "id": "b3dda1ab",
   "metadata": {},
   "outputs": [],
   "source": [
    "C_ref = 0.0\n",
    "n_mc = derivatives.shape[0]\n",
    "for i in range(n_mc):\n",
    "    C_ref += np.dot(derivatives[i].reshape([-1,1]), derivatives[i].reshape([1, -1])) / n_mc\n",
    "eigvals_ref, eigvecs_ref = linalg.eigh(C_ref)\n",
    "\n",
    "# Sort the eigensolutions in the descending order of eigenvalues\n",
    "order_ref = eigvals_ref.argsort()[::-1]\n",
    "eigvals_ref = eigvals_ref[order_ref]\n",
    "eigvecs_ref = eigvecs_ref[:, order_ref]"
   ]
  },
  {
   "cell_type": "markdown",
   "id": "4da730e5",
   "metadata": {},
   "source": [
    "### Train a deep active subspace network\n",
    "\n",
    "Below we train a deep active subspace network, using $d=1$ in the DAS layer."
   ]
  },
  {
   "cell_type": "code",
   "execution_count": 8,
   "id": "3a82b6f7",
   "metadata": {},
   "outputs": [
    {
     "name": "stdout",
     "output_type": "stream",
     "text": [
      "Creating DAS_Surrogate Object\n",
      "Creating Feature Engineering object\n",
      "Using  900/1000 samples to train the ML model\n",
      "done preparing data\n",
      "===============================\n",
      "Neural net parameters\n",
      "===============================\n",
      "Number of layers = 4\n",
      "Number of features = 27\n",
      "Loss function = squared\n",
      "Number of neurons per hidden layer = 100\n",
      "Number of output neurons = 1\n",
      "Activation = ['linear', 'linear', 'tanh', 'tanh', 'linear']\n",
      "This neural network has 10428 weights.\n",
      "===============================\n",
      "===============================\n",
      "Training Deep Active Subspace Neural Network...\n"
     ]
    },
    {
     "name": "stderr",
     "output_type": "stream",
     "text": [
      "  1%|█▏                                                                                                                                                                                                                                               | 51/10000 [00:00<00:19, 503.73it/s]"
     ]
    },
    {
     "name": "stdout",
     "output_type": "stream",
     "text": [
      " loss = 0.9609\n"
     ]
    },
    {
     "name": "stderr",
     "output_type": "stream",
     "text": [
      " 11%|██████████████████████████                                                                                                                                                                                                                     | 1089/10000 [00:01<00:15, 591.85it/s]"
     ]
    },
    {
     "name": "stdout",
     "output_type": "stream",
     "text": [
      " loss = 0.0045\n"
     ]
    },
    {
     "name": "stderr",
     "output_type": "stream",
     "text": [
      " 21%|█████████████████████████████████████████████████▌                                                                                                                                                                                             | 2075/10000 [00:03<00:13, 590.97it/s]"
     ]
    },
    {
     "name": "stdout",
     "output_type": "stream",
     "text": [
      " loss = 0.0068\n"
     ]
    },
    {
     "name": "stderr",
     "output_type": "stream",
     "text": [
      " 31%|█████████████████████████████████████████████████████████████████████████▏                                                                                                                                                                     | 3063/10000 [00:05<00:11, 602.89it/s]"
     ]
    },
    {
     "name": "stdout",
     "output_type": "stream",
     "text": [
      " loss = 0.0054\n"
     ]
    },
    {
     "name": "stderr",
     "output_type": "stream",
     "text": [
      " 41%|██████████████████████████████████████████████████████████████████████████████████████████████████▎                                                                                                                                            | 4112/10000 [00:06<00:09, 596.44it/s]"
     ]
    },
    {
     "name": "stdout",
     "output_type": "stream",
     "text": [
      " loss = 0.0065\n"
     ]
    },
    {
     "name": "stderr",
     "output_type": "stream",
     "text": [
      " 51%|█████████████████████████████████████████████████████████████████████████████████████████████████████████████████████████▌                                                                                                                     | 5088/10000 [00:08<00:08, 557.22it/s]"
     ]
    },
    {
     "name": "stdout",
     "output_type": "stream",
     "text": [
      " loss = 0.0051\n"
     ]
    },
    {
     "name": "stderr",
     "output_type": "stream",
     "text": [
      " 61%|█████████████████████████████████████████████████████████████████████████████████████████████████████████████████████████████████████████████████▋                                                                                             | 6095/10000 [00:10<00:06, 597.05it/s]"
     ]
    },
    {
     "name": "stdout",
     "output_type": "stream",
     "text": [
      " loss = 0.0050\n"
     ]
    },
    {
     "name": "stderr",
     "output_type": "stream",
     "text": [
      " 71%|█████████████████████████████████████████████████████████████████████████████████████████████████████████████████████████████████████████████████████████████████████████▏                                                                     | 7078/10000 [00:11<00:05, 578.17it/s]"
     ]
    },
    {
     "name": "stdout",
     "output_type": "stream",
     "text": [
      " loss = 0.0053\n"
     ]
    },
    {
     "name": "stderr",
     "output_type": "stream",
     "text": [
      " 81%|█████████████████████████████████████████████████████████████████████████████████████████████████████████████████████████████████████████████████████████████████████████████████████████████████▌                                             | 8101/10000 [00:13<00:03, 540.31it/s]"
     ]
    },
    {
     "name": "stdout",
     "output_type": "stream",
     "text": [
      " loss = 0.0030\n"
     ]
    },
    {
     "name": "stderr",
     "output_type": "stream",
     "text": [
      " 91%|█████████████████████████████████████████████████████████████████████████████████████████████████████████████████████████████████████████████████████████████████████████████████████████████████████████████████████████▏                     | 9086/10000 [00:15<00:01, 583.62it/s]"
     ]
    },
    {
     "name": "stdout",
     "output_type": "stream",
     "text": [
      " loss = 0.0068\n"
     ]
    },
    {
     "name": "stderr",
     "output_type": "stream",
     "text": [
      "100%|██████████████████████████████████████████████████████████████████████████████████████████████████████████████████████████████████████████████████████████████████████████████████████████████████████████████████████████████████████████████| 10000/10000 [00:16<00:00, 589.69it/s]\n"
     ]
    }
   ],
   "source": [
    "#####################\n",
    "# train DAS network #\n",
    "#####################\n",
    "\n",
    "das_surrogate = es.methods.DAS_Surrogate()\n",
    "das_surrogate.train(params, samples, d, n_iter=10000, n_layers=4, n_neurons=100, test_frac = 0.1, \n",
    "                batch_size = 64, standardize_X=False, standardize_y=True)"
   ]
  },
  {
   "cell_type": "markdown",
   "id": "d6156606",
   "metadata": {},
   "source": [
    "### Compute the original active subspace of the DAS network\n",
    "\n",
    "Here we compute the DAS equivalent of the reference gradient matrix `C_ref`, i.e. we compute:\n",
    "\n",
    "\\begin{align}\n",
    " C_{DAS} = \\int \\left(\\nabla\\tilde{f}(\\bf x)\\right)\\left(\\nabla\\tilde{f}(\\bf x)\\right)^T p({\\bf x})d{\\bf x}\n",
    "\\end{align}\n",
    "\n",
    "Here $\\nabla\\tilde{f}(\\bf x)$ is the derivative of the neural network, computed via `das_surrogate.derivative`."
   ]
  },
  {
   "cell_type": "code",
   "execution_count": 9,
   "id": "1d8461b0",
   "metadata": {
    "scrolled": true
   },
   "outputs": [],
   "source": [
    "# the gradient matrix computed of the DAS network, computed using the classical AS method\n",
    "C_das = 0.0\n",
    "# the MC approximation of C_1 = (df/dh)(df/dh)^T\n",
    "C_1 = 0.0\n",
    "\n",
    "# Compute C1 and C_das\n",
    "n_mc = params.shape[0]\n",
    "das_samples = np.zeros(n_mc)\n",
    "for i, param in enumerate(params):\n",
    "    # compute the derivative of f at the input layer (needed for C_das)\n",
    "    df_dx = das_surrogate.derivative(param, norm=False)\n",
    "    # store predictions for later\n",
    "    das_samples[i] = das_surrogate.predict(param)\n",
    "    # derivative of f in the DAS layer (needed for C_1)\n",
    "    df_dh = das_surrogate.neural_net.layers[1].delta_hy.reshape([-1,1])\n",
    "    # update C_1 and C_das\n",
    "    C_1 += np.dot(df_dh, df_dh.T) / n_mc\n",
    "    C_das += np.dot(df_dx, df_dx.T) / n_mc\n",
    "\n",
    "# solve eigenvalue problem for C_das\n",
    "eigvals_C_das, eigvecs_C_das = linalg.eigh(C_das)\n",
    "\n",
    "# Sort the eigensolutions in the descending order of eigenvalues\n",
    "order = eigvals_C_das.argsort()[::-1]\n",
    "eigvals_C_das = eigvals_C_das[order]\n",
    "eigvecs_C_das = eigvecs_C_das[:, order]\n",
    "\n",
    "# the DAS weight matrix of the first hidden layer\n",
    "W_1 = das_surrogate.neural_net.layers[1].W\n",
    "\n",
    "# the active subspace coordinates\n",
    "y_das = np.dot(W_1.T, params.T).T\n",
    "\n",
    "# # Alternatively, in the DAS case we can solve only the eigendecomposition of C_1 to obtain the same result\n",
    "# eigvals_C_1, eigvecs_C_1 = linalg.eigh(C_1)\n",
    "\n",
    "# # Sort the eigensolutions in the descending order of eigenvalues\n",
    "# order = eigvals_C_1.argsort()[::-1]\n",
    "# eigvals_C_1 = eigvals_C_1[order]\n",
    "# eigvecs_C_1 = eigvecs_C_1[:, order]"
   ]
  },
  {
   "cell_type": "markdown",
   "id": "ccd2d2b0",
   "metadata": {},
   "source": [
    "### Recreate the eigenvalue plots\n",
    "\n",
    "Compare the eigenvalue decay of `C_ref` and `C_DAS`. \n",
    "\n",
    "We already know that `d=1` is the right value for this model, since we have access to `C_ref`. If this is not the case, you first need to set `d` to a value larger than 1, e.g. `d=4`. Doing so will reveal that `C_DAS` also admits a one-dimensional active subspace. Then you can set `d=1` and retrain the network.\n",
    "\n",
    "Note that `C_DAS` will have `d` non-zero eigenvalues."
   ]
  },
  {
   "cell_type": "code",
   "execution_count": 10,
   "id": "e1a94d13",
   "metadata": {},
   "outputs": [
    {
     "data": {
      "image/png": "[encoded data removed]",
      "text/plain": [
       "<Figure size 800x400 with 2 Axes>"
      ]
     },
     "metadata": {},
     "output_type": "display_data"
    }
   ],
   "source": [
    "####################\n",
    "# plot eigenvalues #\n",
    "####################\n",
    "\n",
    "fig = plt.figure(figsize=[8, 4])\n",
    "ax = fig.add_subplot(121, yscale='log', title='reference eigenvalues', ylim=[1e-16, 20])\n",
    "ax.set_ylabel(r'$\\lambda_i$', fontsize=12)\n",
    "ax.set_xlabel(r'$i$', fontsize=12)\n",
    "ax.plot(range(1, D + 1), eigvals_ref, 's', color='dodgerblue',  markersize=3,)\n",
    "ax.set_xticks(np.arange(1, D + 1, 2))\n",
    "#\n",
    "ax2 = fig.add_subplot(122, yscale='log', title=r'%s eigenvalues, $d=%d$' % (r'$C_{DAS}$', d), ylim=[1e-16, 20])\n",
    "ax2.set_ylabel(r'$\\lambda_i$', fontsize=12)\n",
    "ax2.set_xlabel(r'$i$', fontsize=12)\n",
    "# ax2.plot(range(1, d + 1), eigvals_C_1, 'o', color='salmon', markersize=8, \n",
    "#          label = '%s of %s' % (r'$\\lambda_i$', r'$\\overline{C}_1$'))\n",
    "ax2.plot(range(1, D + 1), eigvals_C_das, 's', color='dodgerblue', markersize=3,\n",
    "         label='%s of %s' % (r'$\\lambda_i$', r'$\\overline{C}_{DAS}$'))\n",
    "ax2.set_xticks(np.arange(1, D + 1, 2))\n",
    "sns.despine(top=True)\n",
    "#\n",
    "plt.legend(loc=0, frameon=False)\n",
    "plt.tight_layout()"
   ]
  },
  {
   "cell_type": "markdown",
   "id": "b582eaaa",
   "metadata": {},
   "source": [
    "### Create the active subspace plot\n",
    "\n",
    "Plot the HIV output in the active subspace, and also plot some validation data by running `HIV_model.py` at some random paramater values.\n",
    "\n",
    "You will see that even though the HIV model has 27 inputs, it's (almost) a one-dimensional function of the active subspace $y_1$."
   ]
  },
  {
   "cell_type": "code",
   "execution_count": 11,
   "id": "59bb0cba",
   "metadata": {},
   "outputs": [],
   "source": [
    "# Generate new code validation samples\n",
    "from HIV_model import *\n",
    "n_val = 100\n",
    "x_val = np.random.rand(n_val, D) * 2 - 1\n",
    "val_samples = Tcells(x_val, np.linspace(1, times[I], times[I]))[:, -1]"
   ]
  },
  {
   "cell_type": "code",
   "execution_count": 12,
   "id": "d11854c3",
   "metadata": {},
   "outputs": [
    {
     "data": {
      "image/png": "[encoded data removed]",
      "text/plain": [
       "<Figure size 400x400 with 1 Axes>"
      ]
     },
     "metadata": {},
     "output_type": "display_data"
    }
   ],
   "source": [
    "# active subspace coordinates of validation data\n",
    "y_val = np.dot(W_1.T, x_val.T).T\n",
    "\n",
    "# plot DAS surrogate in y coordinate\n",
    "fig = plt.figure(figsize=[4, 4])\n",
    "ax = fig.add_subplot(111)\n",
    "ax.set_xlabel(r'$y_1$', fontsize=12)\n",
    "ax.set_ylabel(r'$\\widetilde{G}\\left(y_1\\right)$', fontsize=12)\n",
    "ax.plot(y_val, val_samples, 's', color='dodgerblue', label='validation samples') \n",
    "ax.plot(y_das, das_samples, '+', color='salmon', label='DAS', alpha=0.5)\n",
    "leg = ax.legend(loc=0, frameon=False)\n",
    "leg.set_draggable(True)\n",
    "sns.despine(top=True)\n",
    "plt.tight_layout()\n"
   ]
  },
  {
   "cell_type": "markdown",
   "id": "e5880548",
   "metadata": {},
   "source": [
    "### Global-derivative based sensitivity plots\n",
    "\n",
    "To estimate the contribution of individual paramater values, we compute the global derivative-based sensitivity indices:\n",
    "\n",
    "\\begin{align}\n",
    "\\nu_i :=\\int\\left(\\frac{\\partial \\tilde{f}}{\\partial x_i}\\right)^2p\\left({\\bf x}\\right)\\mathrm{d}{\\bf x}.\n",
    "\\end{align}\n",
    "\n",
    "We also compare these to the reference results computed from the true model derivatives."
   ]
  },
  {
   "cell_type": "code",
   "execution_count": 15,
   "id": "8b75f166",
   "metadata": {},
   "outputs": [],
   "source": [
    "def sensitivity(idx, V_i, **kwargs):\n",
    "    \"\"\"\n",
    "    Plot the sensitivity indices.\n",
    "    \n",
    "    idx : array\n",
    "        Indices of the sensitivity indices, ranking them from most inportant to least important.\n",
    "    \n",
    "    V_i : array\n",
    "        The sensitivity indices.\n",
    "\n",
    "    \"\"\"\n",
    "    \n",
    "    # Parameter names\n",
    "    param_names = np.array([r'$s_1$', r'$s_2$', r'$s_3$', r'$p_1$', r'$C_1$', r'$K_1$', r'$K_2$', r'$K_3$',\n",
    "                   r'$K_4$', r'$K_5$', r'$K_6$', r'$K_7$', r'$K_8$', r'$K_9$', r'$K_{10}$',\n",
    "                   r'$K_{11}$', r'$K_{12}$', r'$K_{13}$', r'$\\delta_1$', r'$\\delta_2$',\n",
    "                   r'$\\delta_3$', r'$\\delta_4$', r'$\\delta_5$', r'$\\delta_6$', r'$\\delta_7$', r'$\\alpha_1$',\n",
    "                   r'$\\psi$'])\n",
    "    \n",
    "    fig = plt.figure(figsize=[4, 8])\n",
    "    ax = fig.add_subplot(111, title=kwargs.get('title', ''))\n",
    "    # ax.set_ylabel(r'$\\int\\left(\\frac{\\partial f}{\\partial x_i}\\right)^2 p({\\bf x})d{\\bf x}$', fontsize=14)\n",
    "    ax.set_xlabel(r'$\\nu_i$', fontsize=14)    \n",
    "    ax.barh(range(V_i.size), width = V_i[idx].flatten(), color = 'dodgerblue')\n",
    "    ax.set_yticks(range(V_i.size))\n",
    "    ax.set_yticklabels(param_names[idx[0]], fontsize=14)\n",
    "    # plt.xticks(rotation=90)\n",
    "    ax.invert_yaxis()\n",
    "    sns.despine(top=True)\n",
    "    plt.tight_layout()"
   ]
  },
  {
   "cell_type": "code",
   "execution_count": 14,
   "id": "60bff6d5",
   "metadata": {
    "scrolled": false
   },
   "outputs": [
    {
     "name": "stdout",
     "output_type": "stream",
     "text": [
      "Creating DAS_analysis object\n",
      "[ 0.01459843 -0.00788863 -0.03701837 -0.01337764 -0.02782644  0.0264299\n",
      "  0.01299686 -0.01248487 -0.0005602   0.02968478 -0.01241041 -0.00324068\n",
      "  0.00076574 -0.01593965  0.00965141 -0.0052904   0.01762609 -0.02341303\n",
      " -0.01204422 -0.03437637  0.02309029 -0.00039083  0.00212377 -0.00610452\n",
      "  0.028341    0.01615835 -0.00536695]\n",
      "Parameters ordered from most to least important:\n",
      "[[ 8 24 21  9 23 13 14  1 11 22  2 10  3  4 26  5  0  7 18 19 17 15 16  6\n",
      "  20 25 12]]\n",
      "Parameters ordered according to the reference activity score\n",
      "[[ 8 24 21  9 23 13 14  1 11 22  2 10  3  4  5 26  0  7 18 19 15 20 16 17\n",
      "  25  6 12]]\n"
     ]
    },
    {
     "data": {
      "image/png": "[encoded data removed]",
      "text/plain": [
       "<Figure size 400x800 with 1 Axes>"
      ]
     },
     "metadata": {},
     "output_type": "display_data"
    },
    {
     "data": {
      "image/png": "[encoded data removed]",
      "text/plain": [
       "<Figure size 400x800 with 1 Axes>"
      ]
     },
     "metadata": {},
     "output_type": "display_data"
    }
   ],
   "source": [
    "#####################################\n",
    "# global gradient-based sensitivity #\n",
    "#####################################\n",
    "\n",
    "das_analysis = es.analysis.DAS_analysis(das_surrogate)\n",
    "\n",
    "idx, V_i = das_analysis.sensitivity_measures(params, norm=False)\n",
    "sensitivity(idx, V_i, title = 'DAS')\n",
    "\n",
    "print('Parameters ordered according to the reference activity score')\n",
    "V_i_ref = np.diag(C_ref)\n",
    "idx_ref = np.flipud(np.argsort(np.diag(C_ref))).reshape([1, -1])\n",
    "print(idx_ref)\n",
    "sensitivity(idx_ref, V_i_ref, title='reference')"
   ]
  },
  {
   "cell_type": "code",
   "execution_count": null,
   "id": "a069501c",
   "metadata": {},
   "outputs": [],
   "source": []
  }
 ],
 "metadata": {
  "kernelspec": {
   "display_name": "Python 3 (ipykernel)",
   "language": "python",
   "name": "python3"
  },
  "language_info": {
   "codemirror_mode": {
    "name": "ipython",
    "version": 3
   },
   "file_extension": ".py",
   "mimetype": "text/x-python",
   "name": "python",
   "nbconvert_exporter": "python",
   "pygments_lexer": "ipython3",
   "version": "3.9.16"
  }
 },
 "nbformat": 4,
 "nbformat_minor": 5
}
